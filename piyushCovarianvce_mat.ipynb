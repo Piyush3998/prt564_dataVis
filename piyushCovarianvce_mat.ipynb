{
  "nbformat": 4,
  "nbformat_minor": 0,
  "metadata": {
    "colab": {
      "provenance": [],
      "authorship_tag": "ABX9TyNGLZchUL30+r3CgeYm9H4v",
      "include_colab_link": true
    },
    "kernelspec": {
      "name": "python3",
      "display_name": "Python 3"
    },
    "language_info": {
      "name": "python"
    }
  },
  "cells": [
    {
      "cell_type": "markdown",
      "metadata": {
        "id": "view-in-github",
        "colab_type": "text"
      },
      "source": [
        "<a href=\"https://colab.research.google.com/github/Piyush3998/prt564_dataVis/blob/main/piyushCovarianvce_mat.ipynb\" target=\"_parent\"><img src=\"https://colab.research.google.com/assets/colab-badge.svg\" alt=\"Open In Colab\"/></a>"
      ]
    },
    {
      "cell_type": "code",
      "source": [
        "import numpy as np\n",
        "from numpy import array, cov\n",
        "\n",
        "# initialise variables X and Y as 1-dimensional arrays\n",
        "X = array([3, 4, 5])\n",
        "Y = array([40, 50, 60])\n",
        "\n",
        "x_var = np.var(X, ddof=1)\n",
        "y_var = np.var(Y, ddof=1)\n",
        "\n",
        "print(\"variance of X: %.2f\" % x_var)\n",
        "print(\"Variance of Y: %.2f\" % y_var)"
      ],
      "metadata": {
        "colab": {
          "base_uri": "https://localhost:8080/"
        },
        "id": "QLLBmBeJrDSP",
        "outputId": "a88ec9df-a116-489b-de83-191766bcbb83"
      },
      "execution_count": 3,
      "outputs": [
        {
          "output_type": "stream",
          "name": "stdout",
          "text": [
            "variance of X: 1.00\n",
            "Variance of Y: 100.00\n"
          ]
        }
      ]
    },
    {
      "cell_type": "code",
      "source": [
        "M = array ([\n",
        "   [3,40],\n",
        "   [4,50],\n",
        "   [5,60]\n",
        "])\n",
        "K = cov(M.T)\n",
        "\n",
        "print(\"Covariance matrix :\\n\", K)"
      ],
      "metadata": {
        "colab": {
          "base_uri": "https://localhost:8080/"
        },
        "id": "JoUgLIZ2s35_",
        "outputId": "663af177-1331-47d1-af5c-e94b6c1a823c"
      },
      "execution_count": 8,
      "outputs": [
        {
          "output_type": "stream",
          "name": "stdout",
          "text": [
            "Covariance matrix :\n",
            " [[  1.  10.]\n",
            " [ 10. 100.]]\n"
          ]
        }
      ]
    },
    {
      "cell_type": "code",
      "source": [],
      "metadata": {
        "id": "fIVxHfC0tDqu"
      },
      "execution_count": null,
      "outputs": []
    }
  ]
}