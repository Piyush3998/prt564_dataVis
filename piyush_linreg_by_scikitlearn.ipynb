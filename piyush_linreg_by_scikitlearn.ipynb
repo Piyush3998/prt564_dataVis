{
  "nbformat": 4,
  "nbformat_minor": 0,
  "metadata": {
    "colab": {
      "provenance": [],
      "authorship_tag": "ABX9TyM1FslgTihF7xZloG4ohiL8",
      "include_colab_link": true
    },
    "kernelspec": {
      "name": "python3",
      "display_name": "Python 3"
    },
    "language_info": {
      "name": "python"
    }
  },
  "cells": [
    {
      "cell_type": "markdown",
      "metadata": {
        "id": "view-in-github",
        "colab_type": "text"
      },
      "source": [
        "<a href=\"https://colab.research.google.com/github/Piyush3998/prt564_dataVis/blob/main/piyush_linreg_by_scikitlearn.ipynb\" target=\"_parent\"><img src=\"https://colab.research.google.com/assets/colab-badge.svg\" alt=\"Open In Colab\"/></a>"
      ]
    },
    {
      "cell_type": "code",
      "execution_count": 3,
      "metadata": {
        "id": "xYBiQkkLgvUq"
      },
      "outputs": [],
      "source": [
        "import numpy as np\n",
        "from sklearn.linear_model import LinearRegression"
      ]
    },
    {
      "cell_type": "code",
      "source": [
        "x = [1,2,3]\n",
        "y = [1,2,2]\n",
        "\n",
        "X = np.array(x).reshape(len(x),1)\n",
        "Y = np.array(y).reshape(len(y),1)\n",
        "\n",
        "print(x,y)"
      ],
      "metadata": {
        "id": "wNVSJHEJhhO6"
      },
      "execution_count": null,
      "outputs": []
    },
    {
      "cell_type": "code",
      "source": [
        "model = LinearRegression()\n",
        "model.fit(X,Y)\n",
        "\n",
        "print(\"Scikit_learn estimeated OLS: \")\n",
        "print(\"Coefficients beta_0: \",model.intercept_[0], \"beta_1: \",model.coef_[0][0])"
      ],
      "metadata": {
        "colab": {
          "base_uri": "https://localhost:8080/"
        },
        "id": "4ouUqZp8DBZ9",
        "outputId": "46158a3b-3ed9-404b-8b14-50f434a385a8"
      },
      "execution_count": 6,
      "outputs": [
        {
          "output_type": "stream",
          "name": "stdout",
          "text": [
            "Scikit_learn estimeated OLS: \n",
            "Coefficients beta_0:  0.6666666666666672 beta_1:  0.4999999999999998\n"
          ]
        }
      ]
    }
  ]
}